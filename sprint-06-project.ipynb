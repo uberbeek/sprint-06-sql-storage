{
 "cells": [
  {
   "cell_type": "markdown",
   "metadata": {},
   "source": [
    "# Preliminaries #"
   ]
  },
  {
   "cell_type": "code",
   "execution_count": 1,
   "metadata": {},
   "outputs": [],
   "source": [
    "# Load libraries\n",
    "\n",
    "import pandas as pd\n",
    "from matplotlib import pyplot as plt\n",
    "from scipy import stats as st\n",
    "import numpy as np"
   ]
  },
  {
   "cell_type": "code",
   "execution_count": 2,
   "metadata": {},
   "outputs": [],
   "source": [
    "# Load data\n",
    "\n",
    "df_companies = pd.read_csv('/datasets/project_sql_result_01.csv')\n",
    "df_neighborhoods = pd.read_csv('/datasets/project_sql_result_04.csv')\n",
    "df_weather = pd.read_csv('/datasets/project_sql_result_07.csv', parse_dates=['start_ts'])"
   ]
  },
  {
   "cell_type": "markdown",
   "metadata": {},
   "source": [
    "The purpose of this project is to analyze data from taxi companies in Chicago during 2017 to understand passenger preferences and the impact of weather. I will examine the data for formatting errors and other potential issues. Next, I will explore the most popular companies and neighborhoods. Finally, I will test a hypothesis about the effect of weather conditions on certain rides. "
   ]
  },
  {
   "cell_type": "markdown",
   "metadata": {},
   "source": [
    "# Examine the Data #"
   ]
  },
  {
   "cell_type": "code",
   "execution_count": 3,
   "metadata": {},
   "outputs": [
    {
     "name": "stdout",
     "output_type": "stream",
     "text": [
      "<class 'pandas.core.frame.DataFrame'>\n",
      "RangeIndex: 64 entries, 0 to 63\n",
      "Data columns (total 2 columns):\n",
      " #   Column        Non-Null Count  Dtype \n",
      "---  ------        --------------  ----- \n",
      " 0   company_name  64 non-null     object\n",
      " 1   trips_amount  64 non-null     int64 \n",
      "dtypes: int64(1), object(1)\n",
      "memory usage: 1.1+ KB\n"
     ]
    },
    {
     "data": {
      "text/plain": [
       "None"
      ]
     },
     "metadata": {},
     "output_type": "display_data"
    },
    {
     "name": "stdout",
     "output_type": "stream",
     "text": [
      "\n"
     ]
    },
    {
     "data": {
      "text/html": [
       "<div>\n",
       "<style scoped>\n",
       "    .dataframe tbody tr th:only-of-type {\n",
       "        vertical-align: middle;\n",
       "    }\n",
       "\n",
       "    .dataframe tbody tr th {\n",
       "        vertical-align: top;\n",
       "    }\n",
       "\n",
       "    .dataframe thead th {\n",
       "        text-align: right;\n",
       "    }\n",
       "</style>\n",
       "<table border=\"1\" class=\"dataframe\">\n",
       "  <thead>\n",
       "    <tr style=\"text-align: right;\">\n",
       "      <th></th>\n",
       "      <th>company_name</th>\n",
       "      <th>trips_amount</th>\n",
       "    </tr>\n",
       "  </thead>\n",
       "  <tbody>\n",
       "    <tr>\n",
       "      <th>0</th>\n",
       "      <td>Flash Cab</td>\n",
       "      <td>19558</td>\n",
       "    </tr>\n",
       "    <tr>\n",
       "      <th>1</th>\n",
       "      <td>Taxi Affiliation Services</td>\n",
       "      <td>11422</td>\n",
       "    </tr>\n",
       "    <tr>\n",
       "      <th>2</th>\n",
       "      <td>Medallion Leasing</td>\n",
       "      <td>10367</td>\n",
       "    </tr>\n",
       "    <tr>\n",
       "      <th>3</th>\n",
       "      <td>Yellow Cab</td>\n",
       "      <td>9888</td>\n",
       "    </tr>\n",
       "    <tr>\n",
       "      <th>4</th>\n",
       "      <td>Taxi Affiliation Service Yellow</td>\n",
       "      <td>9299</td>\n",
       "    </tr>\n",
       "    <tr>\n",
       "      <th>...</th>\n",
       "      <td>...</td>\n",
       "      <td>...</td>\n",
       "    </tr>\n",
       "    <tr>\n",
       "      <th>59</th>\n",
       "      <td>4053 - 40193 Adwar H. Nikola</td>\n",
       "      <td>7</td>\n",
       "    </tr>\n",
       "    <tr>\n",
       "      <th>60</th>\n",
       "      <td>2733 - 74600 Benny Jona</td>\n",
       "      <td>7</td>\n",
       "    </tr>\n",
       "    <tr>\n",
       "      <th>61</th>\n",
       "      <td>5874 - 73628 Sergey Cab Corp.</td>\n",
       "      <td>5</td>\n",
       "    </tr>\n",
       "    <tr>\n",
       "      <th>62</th>\n",
       "      <td>2241 - 44667 - Felman Corp</td>\n",
       "      <td>3</td>\n",
       "    </tr>\n",
       "    <tr>\n",
       "      <th>63</th>\n",
       "      <td>3556 - 36214 RC Andrews Cab</td>\n",
       "      <td>2</td>\n",
       "    </tr>\n",
       "  </tbody>\n",
       "</table>\n",
       "<p>64 rows × 2 columns</p>\n",
       "</div>"
      ],
      "text/plain": [
       "                       company_name  trips_amount\n",
       "0                         Flash Cab         19558\n",
       "1         Taxi Affiliation Services         11422\n",
       "2                 Medallion Leasing         10367\n",
       "3                        Yellow Cab          9888\n",
       "4   Taxi Affiliation Service Yellow          9299\n",
       "..                              ...           ...\n",
       "59     4053 - 40193 Adwar H. Nikola             7\n",
       "60          2733 - 74600 Benny Jona             7\n",
       "61    5874 - 73628 Sergey Cab Corp.             5\n",
       "62       2241 - 44667 - Felman Corp             3\n",
       "63      3556 - 36214 RC Andrews Cab             2\n",
       "\n",
       "[64 rows x 2 columns]"
      ]
     },
     "metadata": {},
     "output_type": "display_data"
    },
    {
     "name": "stdout",
     "output_type": "stream",
     "text": [
      "\n"
     ]
    },
    {
     "data": {
      "text/plain": [
       "count                                  64\n",
       "unique                                 64\n",
       "top       Taxi Affiliation Service Yellow\n",
       "freq                                    1\n",
       "Name: company_name, dtype: object"
      ]
     },
     "metadata": {},
     "output_type": "display_data"
    },
    {
     "name": "stdout",
     "output_type": "stream",
     "text": [
      "\n"
     ]
    },
    {
     "data": {
      "text/plain": [
       "count       64.000000\n",
       "mean      2145.484375\n",
       "std       3812.310186\n",
       "min          2.000000\n",
       "25%         20.750000\n",
       "50%        178.500000\n",
       "75%       2106.500000\n",
       "max      19558.000000\n",
       "Name: trips_amount, dtype: float64"
      ]
     },
     "metadata": {},
     "output_type": "display_data"
    },
    {
     "name": "stdout",
     "output_type": "stream",
     "text": [
      "\n"
     ]
    },
    {
     "data": {
      "image/png": "[encoded data removed]",
      "text/plain": [
       "<Figure size 640x480 with 1 Axes>"
      ]
     },
     "metadata": {},
     "output_type": "display_data"
    }
   ],
   "source": [
    "# Examine the df_companies dataframe\n",
    "\n",
    "display(df_companies.info())\n",
    "print()\n",
    "display(df_companies)\n",
    "print()\n",
    "display(df_companies['company_name'].describe())\n",
    "print()\n",
    "display(df_companies['trips_amount'].describe())\n",
    "print()\n",
    "plt.hist(df_companies['trips_amount'], bins=25)\n",
    "plt.xlabel('Trips')\n",
    "plt.ylabel('Number of Observations')\n",
    "plt.title('Histogram for Trips by Taxi Companies\\nIn Chicago During November 15-16, 2017')\n",
    "plt.show()"
   ]
  },
  {
   "cell_type": "code",
   "execution_count": 4,
   "metadata": {
    "scrolled": true
   },
   "outputs": [
    {
     "name": "stdout",
     "output_type": "stream",
     "text": [
      "<class 'pandas.core.frame.DataFrame'>\n",
      "RangeIndex: 94 entries, 0 to 93\n",
      "Data columns (total 2 columns):\n",
      " #   Column                 Non-Null Count  Dtype  \n",
      "---  ------                 --------------  -----  \n",
      " 0   dropoff_location_name  94 non-null     object \n",
      " 1   average_trips          94 non-null     float64\n",
      "dtypes: float64(1), object(1)\n",
      "memory usage: 1.6+ KB\n"
     ]
    },
    {
     "data": {
      "text/plain": [
       "None"
      ]
     },
     "metadata": {},
     "output_type": "display_data"
    },
    {
     "name": "stdout",
     "output_type": "stream",
     "text": [
      "\n"
     ]
    },
    {
     "data": {
      "text/html": [
       "<div>\n",
       "<style scoped>\n",
       "    .dataframe tbody tr th:only-of-type {\n",
       "        vertical-align: middle;\n",
       "    }\n",
       "\n",
       "    .dataframe tbody tr th {\n",
       "        vertical-align: top;\n",
       "    }\n",
       "\n",
       "    .dataframe thead th {\n",
       "        text-align: right;\n",
       "    }\n",
       "</style>\n",
       "<table border=\"1\" class=\"dataframe\">\n",
       "  <thead>\n",
       "    <tr style=\"text-align: right;\">\n",
       "      <th></th>\n",
       "      <th>dropoff_location_name</th>\n",
       "      <th>average_trips</th>\n",
       "    </tr>\n",
       "  </thead>\n",
       "  <tbody>\n",
       "    <tr>\n",
       "      <th>0</th>\n",
       "      <td>Loop</td>\n",
       "      <td>10727.466667</td>\n",
       "    </tr>\n",
       "    <tr>\n",
       "      <th>1</th>\n",
       "      <td>River North</td>\n",
       "      <td>9523.666667</td>\n",
       "    </tr>\n",
       "    <tr>\n",
       "      <th>2</th>\n",
       "      <td>Streeterville</td>\n",
       "      <td>6664.666667</td>\n",
       "    </tr>\n",
       "    <tr>\n",
       "      <th>3</th>\n",
       "      <td>West Loop</td>\n",
       "      <td>5163.666667</td>\n",
       "    </tr>\n",
       "    <tr>\n",
       "      <th>4</th>\n",
       "      <td>O'Hare</td>\n",
       "      <td>2546.900000</td>\n",
       "    </tr>\n",
       "    <tr>\n",
       "      <th>...</th>\n",
       "      <td>...</td>\n",
       "      <td>...</td>\n",
       "    </tr>\n",
       "    <tr>\n",
       "      <th>89</th>\n",
       "      <td>Mount Greenwood</td>\n",
       "      <td>3.137931</td>\n",
       "    </tr>\n",
       "    <tr>\n",
       "      <th>90</th>\n",
       "      <td>Hegewisch</td>\n",
       "      <td>3.117647</td>\n",
       "    </tr>\n",
       "    <tr>\n",
       "      <th>91</th>\n",
       "      <td>Burnside</td>\n",
       "      <td>2.333333</td>\n",
       "    </tr>\n",
       "    <tr>\n",
       "      <th>92</th>\n",
       "      <td>East Side</td>\n",
       "      <td>1.961538</td>\n",
       "    </tr>\n",
       "    <tr>\n",
       "      <th>93</th>\n",
       "      <td>Riverdale</td>\n",
       "      <td>1.800000</td>\n",
       "    </tr>\n",
       "  </tbody>\n",
       "</table>\n",
       "<p>94 rows × 2 columns</p>\n",
       "</div>"
      ],
      "text/plain": [
       "   dropoff_location_name  average_trips\n",
       "0                   Loop   10727.466667\n",
       "1            River North    9523.666667\n",
       "2          Streeterville    6664.666667\n",
       "3              West Loop    5163.666667\n",
       "4                 O'Hare    2546.900000\n",
       "..                   ...            ...\n",
       "89       Mount Greenwood       3.137931\n",
       "90             Hegewisch       3.117647\n",
       "91              Burnside       2.333333\n",
       "92             East Side       1.961538\n",
       "93             Riverdale       1.800000\n",
       "\n",
       "[94 rows x 2 columns]"
      ]
     },
     "metadata": {},
     "output_type": "display_data"
    },
    {
     "name": "stdout",
     "output_type": "stream",
     "text": [
      "\n"
     ]
    },
    {
     "data": {
      "text/plain": [
       "count                 94\n",
       "unique                94\n",
       "top       Auburn Gresham\n",
       "freq                   1\n",
       "Name: dropoff_location_name, dtype: object"
      ]
     },
     "metadata": {},
     "output_type": "display_data"
    },
    {
     "name": "stdout",
     "output_type": "stream",
     "text": [
      "\n"
     ]
    },
    {
     "data": {
      "text/plain": [
       "count       94.000000\n",
       "mean       599.953728\n",
       "std       1714.591098\n",
       "min          1.800000\n",
       "25%         14.266667\n",
       "50%         52.016667\n",
       "75%        298.858333\n",
       "max      10727.466667\n",
       "Name: average_trips, dtype: float64"
      ]
     },
     "metadata": {},
     "output_type": "display_data"
    },
    {
     "name": "stdout",
     "output_type": "stream",
     "text": [
      "\n"
     ]
    },
    {
     "data": {
      "image/png": "[encoded data removed]",
      "text/plain": [
       "<Figure size 640x480 with 1 Axes>"
      ]
     },
     "metadata": {},
     "output_type": "display_data"
    }
   ],
   "source": [
    "# Examine the df_neighborhoods dataframe\n",
    "\n",
    "display(df_neighborhoods.info())\n",
    "print()\n",
    "display(df_neighborhoods)\n",
    "print()\n",
    "display(df_neighborhoods['dropoff_location_name'].describe())\n",
    "print()\n",
    "display(df_neighborhoods['average_trips'].describe())\n",
    "print()\n",
    "plt.hist(df_neighborhoods['average_trips'], bins=25)\n",
    "plt.xlabel('Average Trips')\n",
    "plt.ylabel('Number of Observations')\n",
    "plt.title('Histogram for Average Trips\\nEnding in Chicago Neighborhoods During November 2017')\n",
    "plt.show()"
   ]
  },
  {
   "cell_type": "code",
   "execution_count": 5,
   "metadata": {},
   "outputs": [
    {
     "name": "stdout",
     "output_type": "stream",
     "text": [
      "<class 'pandas.core.frame.DataFrame'>\n",
      "RangeIndex: 1068 entries, 0 to 1067\n",
      "Data columns (total 3 columns):\n",
      " #   Column              Non-Null Count  Dtype         \n",
      "---  ------              --------------  -----         \n",
      " 0   start_ts            1068 non-null   datetime64[ns]\n",
      " 1   weather_conditions  1068 non-null   object        \n",
      " 2   duration_seconds    1068 non-null   float64       \n",
      "dtypes: datetime64[ns](1), float64(1), object(1)\n",
      "memory usage: 25.2+ KB\n"
     ]
    },
    {
     "data": {
      "text/plain": [
       "None"
      ]
     },
     "metadata": {},
     "output_type": "display_data"
    },
    {
     "data": {
      "text/html": [
       "<div>\n",
       "<style scoped>\n",
       "    .dataframe tbody tr th:only-of-type {\n",
       "        vertical-align: middle;\n",
       "    }\n",
       "\n",
       "    .dataframe tbody tr th {\n",
       "        vertical-align: top;\n",
       "    }\n",
       "\n",
       "    .dataframe thead th {\n",
       "        text-align: right;\n",
       "    }\n",
       "</style>\n",
       "<table border=\"1\" class=\"dataframe\">\n",
       "  <thead>\n",
       "    <tr style=\"text-align: right;\">\n",
       "      <th></th>\n",
       "      <th>start_ts</th>\n",
       "      <th>weather_conditions</th>\n",
       "      <th>duration_seconds</th>\n",
       "    </tr>\n",
       "  </thead>\n",
       "  <tbody>\n",
       "    <tr>\n",
       "      <th>0</th>\n",
       "      <td>2017-11-25 16:00:00</td>\n",
       "      <td>Good</td>\n",
       "      <td>2410.0</td>\n",
       "    </tr>\n",
       "    <tr>\n",
       "      <th>1</th>\n",
       "      <td>2017-11-25 14:00:00</td>\n",
       "      <td>Good</td>\n",
       "      <td>1920.0</td>\n",
       "    </tr>\n",
       "    <tr>\n",
       "      <th>2</th>\n",
       "      <td>2017-11-25 12:00:00</td>\n",
       "      <td>Good</td>\n",
       "      <td>1543.0</td>\n",
       "    </tr>\n",
       "    <tr>\n",
       "      <th>3</th>\n",
       "      <td>2017-11-04 10:00:00</td>\n",
       "      <td>Good</td>\n",
       "      <td>2512.0</td>\n",
       "    </tr>\n",
       "    <tr>\n",
       "      <th>4</th>\n",
       "      <td>2017-11-11 07:00:00</td>\n",
       "      <td>Good</td>\n",
       "      <td>1440.0</td>\n",
       "    </tr>\n",
       "    <tr>\n",
       "      <th>...</th>\n",
       "      <td>...</td>\n",
       "      <td>...</td>\n",
       "      <td>...</td>\n",
       "    </tr>\n",
       "    <tr>\n",
       "      <th>1063</th>\n",
       "      <td>2017-11-25 11:00:00</td>\n",
       "      <td>Good</td>\n",
       "      <td>0.0</td>\n",
       "    </tr>\n",
       "    <tr>\n",
       "      <th>1064</th>\n",
       "      <td>2017-11-11 10:00:00</td>\n",
       "      <td>Good</td>\n",
       "      <td>1318.0</td>\n",
       "    </tr>\n",
       "    <tr>\n",
       "      <th>1065</th>\n",
       "      <td>2017-11-11 13:00:00</td>\n",
       "      <td>Good</td>\n",
       "      <td>2100.0</td>\n",
       "    </tr>\n",
       "    <tr>\n",
       "      <th>1066</th>\n",
       "      <td>2017-11-11 08:00:00</td>\n",
       "      <td>Good</td>\n",
       "      <td>1380.0</td>\n",
       "    </tr>\n",
       "    <tr>\n",
       "      <th>1067</th>\n",
       "      <td>2017-11-04 16:00:00</td>\n",
       "      <td>Bad</td>\n",
       "      <td>2834.0</td>\n",
       "    </tr>\n",
       "  </tbody>\n",
       "</table>\n",
       "<p>1068 rows × 3 columns</p>\n",
       "</div>"
      ],
      "text/plain": [
       "                start_ts weather_conditions  duration_seconds\n",
       "0    2017-11-25 16:00:00               Good            2410.0\n",
       "1    2017-11-25 14:00:00               Good            1920.0\n",
       "2    2017-11-25 12:00:00               Good            1543.0\n",
       "3    2017-11-04 10:00:00               Good            2512.0\n",
       "4    2017-11-11 07:00:00               Good            1440.0\n",
       "...                  ...                ...               ...\n",
       "1063 2017-11-25 11:00:00               Good               0.0\n",
       "1064 2017-11-11 10:00:00               Good            1318.0\n",
       "1065 2017-11-11 13:00:00               Good            2100.0\n",
       "1066 2017-11-11 08:00:00               Good            1380.0\n",
       "1067 2017-11-04 16:00:00                Bad            2834.0\n",
       "\n",
       "[1068 rows x 3 columns]"
      ]
     },
     "metadata": {},
     "output_type": "display_data"
    },
    {
     "name": "stdout",
     "output_type": "stream",
     "text": [
      "\n"
     ]
    },
    {
     "data": {
      "text/plain": [
       "count                    1068\n",
       "unique                     81\n",
       "top       2017-11-11 10:00:00\n",
       "freq                       48\n",
       "first     2017-11-04 00:00:00\n",
       "last      2017-11-25 23:00:00\n",
       "Name: start_ts, dtype: object"
      ]
     },
     "metadata": {},
     "output_type": "display_data"
    },
    {
     "name": "stdout",
     "output_type": "stream",
     "text": [
      "\n"
     ]
    },
    {
     "data": {
      "text/plain": [
       "count     1068\n",
       "unique       2\n",
       "top       Good\n",
       "freq       888\n",
       "Name: weather_conditions, dtype: object"
      ]
     },
     "metadata": {},
     "output_type": "display_data"
    },
    {
     "name": "stdout",
     "output_type": "stream",
     "text": [
      "\n"
     ]
    },
    {
     "data": {
      "text/plain": [
       "count    1068.000000\n",
       "mean     2071.731273\n",
       "std       769.461125\n",
       "min         0.000000\n",
       "25%      1438.250000\n",
       "50%      1980.000000\n",
       "75%      2580.000000\n",
       "max      7440.000000\n",
       "Name: duration_seconds, dtype: float64"
      ]
     },
     "metadata": {},
     "output_type": "display_data"
    }
   ],
   "source": [
    "# Examine the df_weather dataframe\n",
    "\n",
    "display(df_weather.info())\n",
    "display(df_weather)\n",
    "print()\n",
    "display(df_weather['start_ts'].describe())\n",
    "print()\n",
    "display(df_weather['weather_conditions'].describe())\n",
    "print()\n",
    "display(df_weather['duration_seconds'].describe())"
   ]
  },
  {
   "cell_type": "code",
   "execution_count": 6,
   "metadata": {},
   "outputs": [
    {
     "data": {
      "image/png": "[encoded data removed]",
      "text/plain": [
       "<Figure size 640x480 with 1 Axes>"
      ]
     },
     "metadata": {},
     "output_type": "display_data"
    },
    {
     "data": {
      "image/png": "[encoded data removed]",
      "text/plain": [
       "<Figure size 640x480 with 1 Axes>"
      ]
     },
     "metadata": {},
     "output_type": "display_data"
    }
   ],
   "source": [
    "# Examine the df_weather dataframe with plots\n",
    "\n",
    "plt.hist(df_weather['start_ts'], bins=96)\n",
    "plt.xlabel('Ride Start Date and Time')\n",
    "plt.ylabel('Number of Observations')\n",
    "plt.title(\"Histogram for Start Date and Times of Rides\\nfrom the Loop to O'Hare International Airport\\nIn Chicago During Saturdays in November, 2017\")\n",
    "plt.xticks(rotation=30)\n",
    "plt.show()\n",
    "\n",
    "plt.hist(df_weather['duration_seconds'], bins=25)\n",
    "plt.xlabel('Ride Duration (Seconds)')\n",
    "plt.ylabel('Number of Observations')\n",
    "plt.title(\"Histogram for the Duration of Rides\\nfrom the Loop to O'Hare International Airport\\nIn Chicago During Saturdays in November, 2017\")\n",
    "plt.xticks(rotation=30)\n",
    "plt.show()"
   ]
  },
  {
   "cell_type": "markdown",
   "metadata": {},
   "source": [
    "The data look good overall. The duration_seconds column should be integer instead of float, so I will change its data type. I imported start_ts in date format, so that is no problem, and the other data types are correct. I found no missing or obviously inappropriate values and the distributions look reasonable. "
   ]
  },
  {
   "cell_type": "markdown",
   "metadata": {},
   "source": [
    "# Prepare the Data #"
   ]
  },
  {
   "cell_type": "code",
   "execution_count": 7,
   "metadata": {},
   "outputs": [
    {
     "name": "stdout",
     "output_type": "stream",
     "text": [
      "Data as float and integer types are equal, so conversion is safe.\n",
      "\n",
      "<class 'pandas.core.frame.DataFrame'>\n",
      "RangeIndex: 1068 entries, 0 to 1067\n",
      "Data columns (total 3 columns):\n",
      " #   Column              Non-Null Count  Dtype         \n",
      "---  ------              --------------  -----         \n",
      " 0   start_ts            1068 non-null   datetime64[ns]\n",
      " 1   weather_conditions  1068 non-null   object        \n",
      " 2   duration_seconds    1068 non-null   int64         \n",
      "dtypes: datetime64[ns](1), int64(1), object(1)\n",
      "memory usage: 25.2+ KB\n"
     ]
    }
   ],
   "source": [
    "# Change duration_seconds column to integer data type\n",
    "\n",
    "if np.all(df_weather['duration_seconds'] == df_weather['duration_seconds'].astype(int)):\n",
    "    print(\"Data as float and integer types are equal, so conversion is safe.\")\n",
    "    df_weather['duration_seconds'] = df_weather['duration_seconds'].astype(int)\n",
    "else:\n",
    "    print(\"Data as float and integer types are not equal, so conversion is NOT safe.\")\n",
    "\n",
    "print()\n",
    "df_weather.info()"
   ]
  },
  {
   "cell_type": "markdown",
   "metadata": {},
   "source": [
    "# Analyze the Data #"
   ]
  },
  {
   "cell_type": "code",
   "execution_count": 8,
   "metadata": {},
   "outputs": [
    {
     "name": "stdout",
     "output_type": "stream",
     "text": [
      "Top 10 Neighborhoods:\n"
     ]
    },
    {
     "data": {
      "text/html": [
       "<div>\n",
       "<style scoped>\n",
       "    .dataframe tbody tr th:only-of-type {\n",
       "        vertical-align: middle;\n",
       "    }\n",
       "\n",
       "    .dataframe tbody tr th {\n",
       "        vertical-align: top;\n",
       "    }\n",
       "\n",
       "    .dataframe thead th {\n",
       "        text-align: right;\n",
       "    }\n",
       "</style>\n",
       "<table border=\"1\" class=\"dataframe\">\n",
       "  <thead>\n",
       "    <tr style=\"text-align: right;\">\n",
       "      <th></th>\n",
       "      <th>dropoff_location_name</th>\n",
       "      <th>average_trips</th>\n",
       "    </tr>\n",
       "  </thead>\n",
       "  <tbody>\n",
       "    <tr>\n",
       "      <th>1</th>\n",
       "      <td>Loop</td>\n",
       "      <td>10727.466667</td>\n",
       "    </tr>\n",
       "    <tr>\n",
       "      <th>2</th>\n",
       "      <td>River North</td>\n",
       "      <td>9523.666667</td>\n",
       "    </tr>\n",
       "    <tr>\n",
       "      <th>3</th>\n",
       "      <td>Streeterville</td>\n",
       "      <td>6664.666667</td>\n",
       "    </tr>\n",
       "    <tr>\n",
       "      <th>4</th>\n",
       "      <td>West Loop</td>\n",
       "      <td>5163.666667</td>\n",
       "    </tr>\n",
       "    <tr>\n",
       "      <th>5</th>\n",
       "      <td>O'Hare</td>\n",
       "      <td>2546.900000</td>\n",
       "    </tr>\n",
       "    <tr>\n",
       "      <th>6</th>\n",
       "      <td>Lake View</td>\n",
       "      <td>2420.966667</td>\n",
       "    </tr>\n",
       "    <tr>\n",
       "      <th>7</th>\n",
       "      <td>Grant Park</td>\n",
       "      <td>2068.533333</td>\n",
       "    </tr>\n",
       "    <tr>\n",
       "      <th>8</th>\n",
       "      <td>Museum Campus</td>\n",
       "      <td>1510.000000</td>\n",
       "    </tr>\n",
       "    <tr>\n",
       "      <th>9</th>\n",
       "      <td>Gold Coast</td>\n",
       "      <td>1364.233333</td>\n",
       "    </tr>\n",
       "    <tr>\n",
       "      <th>10</th>\n",
       "      <td>Sheffield &amp; DePaul</td>\n",
       "      <td>1259.766667</td>\n",
       "    </tr>\n",
       "  </tbody>\n",
       "</table>\n",
       "</div>"
      ],
      "text/plain": [
       "   dropoff_location_name  average_trips\n",
       "1                   Loop   10727.466667\n",
       "2            River North    9523.666667\n",
       "3          Streeterville    6664.666667\n",
       "4              West Loop    5163.666667\n",
       "5                 O'Hare    2546.900000\n",
       "6              Lake View    2420.966667\n",
       "7             Grant Park    2068.533333\n",
       "8          Museum Campus    1510.000000\n",
       "9             Gold Coast    1364.233333\n",
       "10    Sheffield & DePaul    1259.766667"
      ]
     },
     "metadata": {},
     "output_type": "display_data"
    }
   ],
   "source": [
    "# Identify the top 10 neighborhoods in terms of drop-offs\n",
    "\n",
    "top_10_neighborhoods = df_neighborhoods.sort_values(by='average_trips', ascending=False).head(10)\n",
    "top_10_neighborhoods.index += 1\n",
    "\n",
    "print(\"Top 10 Neighborhoods:\")\n",
    "display(top_10_neighborhoods)"
   ]
  },
  {
   "cell_type": "code",
   "execution_count": 9,
   "metadata": {
    "scrolled": true
   },
   "outputs": [
    {
     "data": {
      "image/png": "[encoded data removed]",
      "text/plain": [
       "<Figure size 640x480 with 1 Axes>"
      ]
     },
     "metadata": {},
     "output_type": "display_data"
    },
    {
     "data": {
      "image/png": "[encoded data removed]",
      "text/plain": [
       "<Figure size 640x480 with 1 Axes>"
      ]
     },
     "metadata": {},
     "output_type": "display_data"
    }
   ],
   "source": [
    "# Plot taxi companies by number of rides\n",
    "\n",
    "companies = df_companies.sort_values(by='trips_amount', ascending=False)\n",
    "top_10_companies = df_companies.sort_values(by='trips_amount', ascending=False).head(10)\n",
    "\n",
    "plt.bar(companies['company_name'].values, companies['trips_amount'].values)\n",
    "plt.xlabel('Taxi Company')\n",
    "plt.ylabel('Number of Rides')\n",
    "plt.title('All Taxi Companies by Number of Rides\\nIn Chicago During November 15-16, 2017')\n",
    "plt.xticks([])\n",
    "plt.show()\n",
    "\n",
    "plt.bar(top_10_companies['company_name'].values, top_10_companies['trips_amount'].values)\n",
    "plt.xlabel('Taxi Company')\n",
    "plt.ylabel('Number of Rides')\n",
    "plt.title('Top 10 Taxi Companies by Number of Rides\\nIn Chicago During November 15-16, 2017')\n",
    "plt.xticks(rotation=90)\n",
    "plt.show()"
   ]
  },
  {
   "cell_type": "code",
   "execution_count": 10,
   "metadata": {
    "scrolled": true
   },
   "outputs": [
    {
     "data": {
      "image/png": "[encoded data removed]",
      "text/plain": [
       "<Figure size 640x480 with 1 Axes>"
      ]
     },
     "metadata": {},
     "output_type": "display_data"
    }
   ],
   "source": [
    "# Plot top 10 neighborhoods by number of dropoffs\n",
    "\n",
    "plt.bar(top_10_neighborhoods['dropoff_location_name'].values, top_10_neighborhoods['average_trips'].values)\n",
    "plt.xlabel('Neighborhood')\n",
    "plt.ylabel('Average Dropoffs')\n",
    "plt.xticks(rotation=90)\n",
    "plt.show()"
   ]
  },
  {
   "cell_type": "markdown",
   "metadata": {},
   "source": [
    "Flash Cab gave the most rides by far (19,558), followed after a large drop by a steady decline beginning with Taxi Affiliation Services (11,422) and Medallion Leasing (10,367). Only 14 out of 64 companies gave more than 2,500 rides and more than half (34) gave fewer than 250 rides. \n",
    "\n",
    "Average dropoffs were dominated by four neighborhoods: Loop (10,727), River North (9,524), Streeterville (6,665), and West Loop (5,164), followed after a large drop by a steady decline. Only 12 out of 94 neighborhoods averaged more than 1,000 dropoffs. \n",
    "\n",
    "The four dominant neighborhoods are contiguous and in the heart of Chicago, so it makes sense for them to see high traffic. Their order even makes sense with the Loop and River North in the core of downtown while Streeterville and West Loop are adjacent but slightly further afield. I speculate that Flash Cab gave so many rides because it predominantly covered those four downtown regions, but I lack the data to test that hypothesis. "
   ]
  },
  {
   "cell_type": "markdown",
   "metadata": {},
   "source": [
    "# Test Hypotheses #"
   ]
  },
  {
   "cell_type": "code",
   "execution_count": 11,
   "metadata": {},
   "outputs": [
    {
     "name": "stdout",
     "output_type": "stream",
     "text": [
      "Descriptives for good weather:\n"
     ]
    },
    {
     "data": {
      "text/plain": [
       "count     888.000000\n",
       "mean     1999.675676\n",
       "std       759.198268\n",
       "min         0.000000\n",
       "25%      1389.750000\n",
       "50%      1800.000000\n",
       "75%      2460.000000\n",
       "max      7440.000000\n",
       "Name: duration_seconds, dtype: float64"
      ]
     },
     "metadata": {},
     "output_type": "display_data"
    },
    {
     "name": "stdout",
     "output_type": "stream",
     "text": [
      "\n",
      "Descriptives for bad weather:\n"
     ]
    },
    {
     "data": {
      "text/plain": [
       "count     180.000000\n",
       "mean     2427.205556\n",
       "std       721.314138\n",
       "min       480.000000\n",
       "25%      1962.000000\n",
       "50%      2540.000000\n",
       "75%      2928.000000\n",
       "max      4980.000000\n",
       "Name: duration_seconds, dtype: float64"
      ]
     },
     "metadata": {},
     "output_type": "display_data"
    },
    {
     "name": "stdout",
     "output_type": "stream",
     "text": [
      "\n",
      "Levene's test comparing the variances of ride duration with good and bad weather:\n",
      "t-statistic: 0.39\n",
      "p-value: 0.5332\n"
     ]
    }
   ],
   "source": [
    "# Test equality of variances for average duration of rides with good and bad weather\n",
    "\n",
    "good_weather = df_weather[df_weather['weather_conditions'] == 'Good']['duration_seconds']\n",
    "bad_weather = df_weather[df_weather['weather_conditions'] == 'Bad']['duration_seconds']\n",
    "levene_test = st.levene(good_weather, bad_weather, center='median')\n",
    "\n",
    "print('Descriptives for good weather:')\n",
    "display(good_weather.describe())\n",
    "print()\n",
    "print('Descriptives for bad weather:')\n",
    "display(bad_weather.describe())\n",
    "print()\n",
    "print(\"Levene's test comparing the variances of ride duration with good and bad weather:\")\n",
    "print(f\"t-statistic: {levene_test[0]:.2f}\")\n",
    "print(f\"p-value: {levene_test[1]:.4f}\")"
   ]
  },
  {
   "cell_type": "code",
   "execution_count": 12,
   "metadata": {},
   "outputs": [
    {
     "name": "stdout",
     "output_type": "stream",
     "text": [
      "Independent t-test comparing ride duration for good and bad weather conditions:\n",
      "t-statistic: -6.95\n",
      "p-value: 0.0000\n",
      "\n",
      "Mean ride duration for rides in good weather = 1999.68 seconds\n",
      "Mean ride duration for rides in bad weathers = 2427.21 seconds\n",
      "Difference in means: = 427.53 seconds\n"
     ]
    }
   ],
   "source": [
    "# Test the hypothesis: The average duration of rides from the Loop to O'Hare International Airport changes on rainy Saturdays\n",
    "\n",
    "weather_test = st.ttest_ind(good_weather, bad_weather)\n",
    "\n",
    "print(\"Independent t-test comparing ride duration for good and bad weather conditions:\")\n",
    "print(f\"t-statistic: {weather_test[0]:.2f}\")\n",
    "print(f\"p-value: {weather_test[1]:.4f}\")\n",
    "print()\n",
    "print(f\"Mean ride duration for rides in good weather = {good_weather.mean():.2f} seconds\")\n",
    "print(f\"Mean ride duration for rides in bad weathers = {bad_weather.mean():.2f} seconds\")\n",
    "print(f\"Difference in means: = {bad_weather.mean() - good_weather.mean():.2f} seconds\")"
   ]
  },
  {
   "cell_type": "markdown",
   "metadata": {},
   "source": [
    "Null Hypothesis: Ride durations during good and bad weather are equal   \n",
    "Alternative Hypothesis: Ride durations during good and bad weather are not equal   \n",
    "Statistical Test: Independent t-test with alpha = 0.05 and equal variances assumed   \n",
    "Conclusion: We can reject the null hypothesis (t = -6.95, p < 0.05)"
   ]
  },
  {
   "cell_type": "markdown",
   "metadata": {},
   "source": [
    "I conclude that rides from the Loop to O'Hare International Airport on Saturdays in November, 2017 were significantly longer on average during bad weather than during good weather. The difference was a little more than seven minutes. Causality is pretty clear in this case because human behavior could not have meaningfully affected the weather. I attribute the difference mainly to drivers going slower in hazardous conditions, though other factors might also contribute. Generalizability is limited for other routes and days of the week, but I suspect the effect is robust. \n",
    "\n",
    "For this test, I formulated the null and alternative hypotheses in the same way they are always formulated: the null hypothesis posits no difference between conditions and the alternative hypothesis posits a difference between conditions. I relied on Levene's test to determine that the variance of ride durations did not signficantly differ according to weather conditions. I  chose the standard significance level used across the social sciences: alpha = 0.05."
   ]
  },
  {
   "cell_type": "markdown",
   "metadata": {},
   "source": [
    "# General Discussion #"
   ]
  },
  {
   "cell_type": "markdown",
   "metadata": {},
   "source": [
    "The data provides some insight into the behavior of taxi passengers in Chicago during November, 2017. Rides were disproportionately concentrated in four neighborhoods (the Loop, River North, Streeterville, and West Loop) and one taxi company (Flash Cab). The distributions of rides for companies and neighborhoods were very right skewed with the top 10 representing a majority of rides in both cases. That means Zuber should focus on only a few hotspots and competitors. I would advise them to concentrate on downtown Chicago and try to cut into Flash Cab's market share. \n",
    "\n",
    "Rain and other bad weather conditions were significantly associated with longer rides from the Loop to O'Hare airport on Saturdays. Zuber could perhaps mention inclement weather in ads to solicit those longer rides or maybe increase prices during the rain to capitalize on them."
   ]
  }
 ],
 "metadata": {
  "ExecuteTimeLog": [
   {
    "duration": 2436,
    "start_time": "2024-11-14T10:26:30.643Z"
   },
   {
    "duration": 13,
    "start_time": "2024-11-14T10:28:09.106Z"
   },
   {
    "duration": 9,
    "start_time": "2024-11-14T10:28:12.276Z"
   },
   {
    "duration": 8,
    "start_time": "2024-11-14T10:28:18.045Z"
   },
   {
    "duration": 9,
    "start_time": "2024-11-14T10:28:26.778Z"
   },
   {
    "duration": 14,
    "start_time": "2024-11-14T10:28:48.472Z"
   },
   {
    "duration": 210,
    "start_time": "2024-11-14T10:29:04.685Z"
   },
   {
    "duration": 15,
    "start_time": "2024-11-14T10:29:10.757Z"
   },
   {
    "duration": 12,
    "start_time": "2024-11-14T10:29:57.774Z"
   },
   {
    "duration": 5,
    "start_time": "2024-11-14T10:30:11.336Z"
   },
   {
    "duration": 7,
    "start_time": "2024-11-14T10:30:16.205Z"
   },
   {
    "duration": 15,
    "start_time": "2024-11-14T10:30:43.806Z"
   },
   {
    "duration": 17,
    "start_time": "2024-11-14T10:30:54.678Z"
   },
   {
    "duration": 21,
    "start_time": "2024-11-14T10:31:03.286Z"
   },
   {
    "duration": 18,
    "start_time": "2024-11-14T10:31:28.700Z"
   },
   {
    "duration": 11,
    "start_time": "2024-11-14T10:46:33.287Z"
   },
   {
    "duration": 6,
    "start_time": "2024-11-14T10:46:39.576Z"
   },
   {
    "duration": 13,
    "start_time": "2024-11-14T10:47:40.860Z"
   },
   {
    "duration": 2,
    "start_time": "2024-11-14T10:47:44.479Z"
   },
   {
    "duration": 8,
    "start_time": "2024-11-14T10:47:44.799Z"
   },
   {
    "duration": 19,
    "start_time": "2024-11-14T10:47:47.502Z"
   },
   {
    "duration": 18,
    "start_time": "2024-11-14T10:47:50.968Z"
   },
   {
    "duration": 19,
    "start_time": "2024-11-14T10:48:11.511Z"
   },
   {
    "duration": 7,
    "start_time": "2024-11-14T10:48:15.000Z"
   },
   {
    "duration": 11,
    "start_time": "2024-11-14T10:50:02.287Z"
   },
   {
    "duration": 7,
    "start_time": "2024-11-14T10:50:51.703Z"
   },
   {
    "duration": 9,
    "start_time": "2024-11-14T10:51:25.510Z"
   },
   {
    "duration": 18,
    "start_time": "2024-11-14T10:52:12.206Z"
   },
   {
    "duration": 148,
    "start_time": "2024-11-14T10:53:51.926Z"
   },
   {
    "duration": 130,
    "start_time": "2024-11-14T10:54:06.412Z"
   },
   {
    "duration": 15,
    "start_time": "2024-11-14T10:56:07.886Z"
   },
   {
    "duration": 127,
    "start_time": "2024-11-14T10:56:12.412Z"
   },
   {
    "duration": 141,
    "start_time": "2024-11-14T10:57:03.442Z"
   },
   {
    "duration": 223,
    "start_time": "2024-11-14T11:00:52.690Z"
   },
   {
    "duration": 5,
    "start_time": "2024-11-14T11:02:37.202Z"
   },
   {
    "duration": 15,
    "start_time": "2024-11-14T11:02:45.417Z"
   },
   {
    "duration": 4,
    "start_time": "2024-11-14T11:02:50.962Z"
   },
   {
    "duration": 6,
    "start_time": "2024-11-14T11:03:03.226Z"
   },
   {
    "duration": 4,
    "start_time": "2024-11-14T11:03:11.363Z"
   },
   {
    "duration": 4,
    "start_time": "2024-11-14T11:04:01.816Z"
   },
   {
    "duration": 997,
    "start_time": "2024-11-14T11:04:27.098Z"
   },
   {
    "duration": 966,
    "start_time": "2024-11-14T11:04:37.386Z"
   },
   {
    "duration": 9,
    "start_time": "2024-11-14T11:06:47.220Z"
   },
   {
    "duration": 213,
    "start_time": "2024-11-14T11:08:27.843Z"
   },
   {
    "duration": 214,
    "start_time": "2024-11-14T11:08:53.848Z"
   },
   {
    "duration": 208,
    "start_time": "2024-11-14T11:09:07.822Z"
   },
   {
    "duration": 200,
    "start_time": "2024-11-14T11:11:15.926Z"
   },
   {
    "duration": 268,
    "start_time": "2024-11-14T11:11:36.566Z"
   },
   {
    "duration": 123,
    "start_time": "2024-11-14T11:13:49.773Z"
   },
   {
    "duration": 204,
    "start_time": "2024-11-14T11:13:58.094Z"
   },
   {
    "duration": 200,
    "start_time": "2024-11-14T11:14:48.493Z"
   },
   {
    "duration": 133,
    "start_time": "2024-11-14T11:15:18.976Z"
   },
   {
    "duration": 2472,
    "start_time": "2024-11-15T12:10:09.820Z"
   },
   {
    "duration": 13,
    "start_time": "2024-11-15T12:10:12.295Z"
   },
   {
    "duration": 23,
    "start_time": "2024-11-15T12:10:12.310Z"
   },
   {
    "duration": 152,
    "start_time": "2024-11-15T12:10:12.334Z"
   },
   {
    "duration": 17,
    "start_time": "2024-11-15T12:10:12.489Z"
   },
   {
    "duration": 149,
    "start_time": "2024-11-15T12:10:12.508Z"
   },
   {
    "duration": 8,
    "start_time": "2024-11-15T12:10:12.659Z"
   },
   {
    "duration": 233,
    "start_time": "2024-11-15T12:10:12.668Z"
   },
   {
    "duration": 130,
    "start_time": "2024-11-15T12:10:12.903Z"
   },
   {
    "duration": 202,
    "start_time": "2024-11-15T12:11:25.098Z"
   },
   {
    "duration": 1190,
    "start_time": "2024-11-15T12:13:43.753Z"
   },
   {
    "duration": 1172,
    "start_time": "2024-11-15T12:14:18.865Z"
   },
   {
    "duration": 938,
    "start_time": "2024-11-15T12:16:20.967Z"
   },
   {
    "duration": 326,
    "start_time": "2024-11-15T12:17:18.507Z"
   },
   {
    "duration": 351,
    "start_time": "2024-11-15T12:17:44.601Z"
   },
   {
    "duration": 407,
    "start_time": "2024-11-15T12:18:04.384Z"
   },
   {
    "duration": 344,
    "start_time": "2024-11-15T12:18:18.809Z"
   },
   {
    "duration": 309,
    "start_time": "2024-11-15T12:25:03.807Z"
   },
   {
    "duration": 339,
    "start_time": "2024-11-15T12:25:31.996Z"
   },
   {
    "duration": 127,
    "start_time": "2024-11-15T12:25:56.580Z"
   },
   {
    "duration": 294,
    "start_time": "2024-11-15T12:26:14.694Z"
   },
   {
    "duration": 282,
    "start_time": "2024-11-15T12:26:23.381Z"
   },
   {
    "duration": 287,
    "start_time": "2024-11-15T12:26:35.125Z"
   },
   {
    "duration": 347,
    "start_time": "2024-11-15T12:26:44.237Z"
   },
   {
    "duration": 311,
    "start_time": "2024-11-15T12:26:51.913Z"
   },
   {
    "duration": 275,
    "start_time": "2024-11-15T12:27:00.358Z"
   },
   {
    "duration": 148,
    "start_time": "2024-11-15T12:35:34.308Z"
   },
   {
    "duration": 142,
    "start_time": "2024-11-15T12:36:56.890Z"
   },
   {
    "duration": 204,
    "start_time": "2024-11-15T12:37:10.291Z"
   },
   {
    "duration": 143,
    "start_time": "2024-11-15T12:37:34.563Z"
   },
   {
    "duration": 143,
    "start_time": "2024-11-15T12:37:49.051Z"
   },
   {
    "duration": 7,
    "start_time": "2024-11-15T12:43:51.888Z"
   },
   {
    "duration": 276,
    "start_time": "2024-11-15T12:48:56.837Z"
   },
   {
    "duration": 7,
    "start_time": "2024-11-15T12:49:00.359Z"
   },
   {
    "duration": 9,
    "start_time": "2024-11-15T12:52:30.478Z"
   },
   {
    "duration": 9,
    "start_time": "2024-11-15T12:56:17.291Z"
   },
   {
    "duration": 8,
    "start_time": "2024-11-15T12:56:25.068Z"
   },
   {
    "duration": 9,
    "start_time": "2024-11-15T12:57:06.275Z"
   },
   {
    "duration": 126,
    "start_time": "2024-11-15T12:59:44.187Z"
   },
   {
    "duration": 153,
    "start_time": "2024-11-15T13:04:15.504Z"
   },
   {
    "duration": 110,
    "start_time": "2024-11-15T13:04:58.192Z"
   },
   {
    "duration": 155,
    "start_time": "2024-11-16T03:36:13.180Z"
   },
   {
    "duration": 2467,
    "start_time": "2024-11-16T03:36:19.524Z"
   },
   {
    "duration": 19,
    "start_time": "2024-11-16T03:36:21.993Z"
   },
   {
    "duration": 168,
    "start_time": "2024-11-16T03:36:22.014Z"
   },
   {
    "duration": 170,
    "start_time": "2024-11-16T03:36:22.184Z"
   },
   {
    "duration": 16,
    "start_time": "2024-11-16T03:36:22.357Z"
   },
   {
    "duration": 335,
    "start_time": "2024-11-16T03:36:22.375Z"
   },
   {
    "duration": 182,
    "start_time": "2024-11-16T03:36:22.712Z"
   },
   {
    "duration": 9,
    "start_time": "2024-11-16T03:38:15.051Z"
   },
   {
    "duration": 4,
    "start_time": "2024-11-16T03:41:14.824Z"
   },
   {
    "duration": 72,
    "start_time": "2024-11-16T03:41:23.591Z"
   },
   {
    "duration": 13,
    "start_time": "2024-11-16T03:41:44.420Z"
   },
   {
    "duration": 13,
    "start_time": "2024-11-16T03:42:19.560Z"
   },
   {
    "duration": 3,
    "start_time": "2024-11-16T03:43:54.455Z"
   },
   {
    "duration": 97,
    "start_time": "2024-11-16T03:44:28.138Z"
   },
   {
    "duration": 38,
    "start_time": "2024-11-16T03:44:51.958Z"
   },
   {
    "duration": 3,
    "start_time": "2024-11-16T03:46:02.017Z"
   },
   {
    "duration": 3,
    "start_time": "2024-11-16T03:46:28.666Z"
   },
   {
    "duration": 4,
    "start_time": "2024-11-16T03:46:50.108Z"
   },
   {
    "duration": 3,
    "start_time": "2024-11-16T03:47:26.469Z"
   },
   {
    "duration": 14,
    "start_time": "2024-11-16T03:48:34.797Z"
   },
   {
    "duration": 16,
    "start_time": "2024-11-16T03:49:15.190Z"
   },
   {
    "duration": 12,
    "start_time": "2024-11-16T03:50:23.188Z"
   },
   {
    "duration": 6,
    "start_time": "2024-11-16T03:50:42.589Z"
   },
   {
    "duration": 6,
    "start_time": "2024-11-16T03:50:49.613Z"
   },
   {
    "duration": 5,
    "start_time": "2024-11-16T03:50:56.421Z"
   },
   {
    "duration": 13,
    "start_time": "2024-11-16T03:51:14.534Z"
   },
   {
    "duration": 770,
    "start_time": "2024-11-16T03:51:40.783Z"
   },
   {
    "duration": 13,
    "start_time": "2024-11-16T03:51:41.556Z"
   },
   {
    "duration": 171,
    "start_time": "2024-11-16T03:51:41.571Z"
   },
   {
    "duration": 161,
    "start_time": "2024-11-16T03:51:41.744Z"
   },
   {
    "duration": 9,
    "start_time": "2024-11-16T03:51:41.908Z"
   },
   {
    "duration": 372,
    "start_time": "2024-11-16T03:51:41.918Z"
   },
   {
    "duration": 127,
    "start_time": "2024-11-16T03:51:42.292Z"
   },
   {
    "duration": 9,
    "start_time": "2024-11-16T03:51:42.421Z"
   },
   {
    "duration": 3,
    "start_time": "2024-11-16T03:51:42.431Z"
   },
   {
    "duration": 8,
    "start_time": "2024-11-16T03:51:42.436Z"
   },
   {
    "duration": 9,
    "start_time": "2024-11-16T03:54:13.244Z"
   },
   {
    "duration": 10,
    "start_time": "2024-11-16T03:54:20.859Z"
   },
   {
    "duration": 5,
    "start_time": "2024-11-16T03:54:36.792Z"
   },
   {
    "duration": 6,
    "start_time": "2024-11-16T03:55:42.572Z"
   },
   {
    "duration": 5,
    "start_time": "2024-11-16T03:55:53.950Z"
   },
   {
    "duration": 4,
    "start_time": "2024-11-16T03:57:41.931Z"
   },
   {
    "duration": 5,
    "start_time": "2024-11-16T03:58:07.353Z"
   },
   {
    "duration": 7,
    "start_time": "2024-11-16T03:58:13.755Z"
   },
   {
    "duration": 6,
    "start_time": "2024-11-16T03:59:26.706Z"
   },
   {
    "duration": 7,
    "start_time": "2024-11-16T03:59:34.066Z"
   },
   {
    "duration": 7,
    "start_time": "2024-11-16T04:00:16.911Z"
   },
   {
    "duration": 16,
    "start_time": "2024-11-16T04:04:44.966Z"
   },
   {
    "duration": 14,
    "start_time": "2024-11-16T04:05:56.807Z"
   },
   {
    "duration": 14,
    "start_time": "2024-11-16T04:06:20.705Z"
   },
   {
    "duration": 215,
    "start_time": "2024-11-16T04:07:10.922Z"
   },
   {
    "duration": 14,
    "start_time": "2024-11-16T04:07:27.220Z"
   },
   {
    "duration": 5,
    "start_time": "2024-11-16T04:07:34.936Z"
   },
   {
    "duration": 5,
    "start_time": "2024-11-16T04:07:43.273Z"
   },
   {
    "duration": 4,
    "start_time": "2024-11-16T04:07:48.448Z"
   },
   {
    "duration": 4,
    "start_time": "2024-11-16T04:08:00.576Z"
   },
   {
    "duration": 5,
    "start_time": "2024-11-16T04:15:36.765Z"
   },
   {
    "duration": 4,
    "start_time": "2024-11-16T04:15:54.004Z"
   },
   {
    "duration": 8,
    "start_time": "2024-11-16T04:17:27.719Z"
   },
   {
    "duration": 5,
    "start_time": "2024-11-16T04:17:35.876Z"
   },
   {
    "duration": 4,
    "start_time": "2024-11-16T04:17:49.087Z"
   },
   {
    "duration": 15,
    "start_time": "2024-11-16T04:18:22.525Z"
   },
   {
    "duration": 2462,
    "start_time": "2024-11-16T10:25:39.836Z"
   },
   {
    "duration": 27,
    "start_time": "2024-11-16T10:25:42.301Z"
   },
   {
    "duration": 169,
    "start_time": "2024-11-16T10:25:42.329Z"
   },
   {
    "duration": 168,
    "start_time": "2024-11-16T10:25:42.499Z"
   },
   {
    "duration": 8,
    "start_time": "2024-11-16T10:25:42.669Z"
   },
   {
    "duration": 313,
    "start_time": "2024-11-16T10:25:42.679Z"
   },
   {
    "duration": 128,
    "start_time": "2024-11-16T10:25:42.994Z"
   },
   {
    "duration": 14,
    "start_time": "2024-11-16T10:25:43.124Z"
   },
   {
    "duration": 6,
    "start_time": "2024-11-16T10:25:43.139Z"
   },
   {
    "duration": 742,
    "start_time": "2024-11-16T10:26:27.673Z"
   },
   {
    "duration": 12,
    "start_time": "2024-11-16T10:26:28.417Z"
   },
   {
    "duration": 169,
    "start_time": "2024-11-16T10:26:28.431Z"
   },
   {
    "duration": 165,
    "start_time": "2024-11-16T10:26:28.601Z"
   },
   {
    "duration": 9,
    "start_time": "2024-11-16T10:26:28.768Z"
   },
   {
    "duration": 362,
    "start_time": "2024-11-16T10:26:28.778Z"
   },
   {
    "duration": 125,
    "start_time": "2024-11-16T10:26:29.142Z"
   },
   {
    "duration": 13,
    "start_time": "2024-11-16T10:26:29.269Z"
   },
   {
    "duration": 4,
    "start_time": "2024-11-16T10:26:29.285Z"
   },
   {
    "duration": 612,
    "start_time": "2024-11-16T10:28:48.953Z"
   },
   {
    "duration": 15,
    "start_time": "2024-11-16T10:30:47.648Z"
   },
   {
    "duration": 144,
    "start_time": "2024-11-16T10:30:52.769Z"
   },
   {
    "duration": 9,
    "start_time": "2024-11-16T10:32:07.223Z"
   },
   {
    "duration": 16,
    "start_time": "2024-11-16T10:32:21.790Z"
   },
   {
    "duration": 13,
    "start_time": "2024-11-16T10:36:15.509Z"
   },
   {
    "duration": 3,
    "start_time": "2024-11-16T10:36:22.414Z"
   },
   {
    "duration": 11,
    "start_time": "2024-11-16T10:36:25.919Z"
   },
   {
    "duration": 17,
    "start_time": "2024-11-16T10:36:26.405Z"
   },
   {
    "duration": 4,
    "start_time": "2024-11-16T10:36:31.656Z"
   },
   {
    "duration": 365,
    "start_time": "2024-11-16T10:38:38.949Z"
   },
   {
    "duration": 5,
    "start_time": "2024-11-16T10:38:58.827Z"
   },
   {
    "duration": 4,
    "start_time": "2024-11-16T10:39:07.572Z"
   },
   {
    "duration": 3,
    "start_time": "2024-11-16T10:39:21.254Z"
   },
   {
    "duration": 3,
    "start_time": "2024-11-16T10:39:26.029Z"
   },
   {
    "duration": 3,
    "start_time": "2024-11-16T10:39:36.605Z"
   },
   {
    "duration": 3,
    "start_time": "2024-11-16T10:39:39.595Z"
   },
   {
    "duration": 4,
    "start_time": "2024-11-16T10:39:43.613Z"
   },
   {
    "duration": 3,
    "start_time": "2024-11-16T10:39:48.173Z"
   },
   {
    "duration": 4,
    "start_time": "2024-11-16T10:39:54.173Z"
   },
   {
    "duration": 26,
    "start_time": "2024-11-16T10:42:28.491Z"
   },
   {
    "duration": 26,
    "start_time": "2024-11-16T10:42:49.972Z"
   },
   {
    "duration": 150,
    "start_time": "2024-11-16T10:44:15.355Z"
   },
   {
    "duration": 151,
    "start_time": "2024-11-16T10:44:47.323Z"
   },
   {
    "duration": 146,
    "start_time": "2024-11-16T10:45:07.131Z"
   },
   {
    "duration": 5,
    "start_time": "2024-11-16T10:46:51.570Z"
   },
   {
    "duration": 14,
    "start_time": "2024-11-16T10:46:57.225Z"
   },
   {
    "duration": 5,
    "start_time": "2024-11-16T10:47:52.002Z"
   },
   {
    "duration": 6,
    "start_time": "2024-11-16T10:47:58.833Z"
   },
   {
    "duration": 5,
    "start_time": "2024-11-16T10:49:00.641Z"
   },
   {
    "duration": 5,
    "start_time": "2024-11-16T10:49:10.291Z"
   },
   {
    "duration": 6,
    "start_time": "2024-11-16T10:49:27.457Z"
   },
   {
    "duration": 4,
    "start_time": "2024-11-16T10:49:35.696Z"
   },
   {
    "duration": 4,
    "start_time": "2024-11-16T10:49:42.281Z"
   },
   {
    "duration": 158,
    "start_time": "2024-11-16T10:50:12.929Z"
   },
   {
    "duration": 202,
    "start_time": "2024-11-16T10:50:19.229Z"
   },
   {
    "duration": 387,
    "start_time": "2024-11-16T10:50:44.897Z"
   },
   {
    "duration": 1101,
    "start_time": "2024-11-16T10:51:18.409Z"
   },
   {
    "duration": 516,
    "start_time": "2024-11-16T10:51:45.441Z"
   },
   {
    "duration": 199,
    "start_time": "2024-11-16T10:52:30.912Z"
   },
   {
    "duration": 219,
    "start_time": "2024-11-16T10:54:43.979Z"
   },
   {
    "duration": 207,
    "start_time": "2024-11-16T10:54:53.567Z"
   },
   {
    "duration": 349,
    "start_time": "2024-11-16T10:55:03.575Z"
   },
   {
    "duration": 390,
    "start_time": "2024-11-16T10:56:02.335Z"
   },
   {
    "duration": 386,
    "start_time": "2024-11-16T10:56:45.911Z"
   },
   {
    "duration": 337,
    "start_time": "2024-11-16T10:57:04.527Z"
   },
   {
    "duration": 327,
    "start_time": "2024-11-16T10:57:44.537Z"
   },
   {
    "duration": 25,
    "start_time": "2024-11-16T10:58:48.432Z"
   },
   {
    "duration": 5,
    "start_time": "2024-11-16T11:04:28.581Z"
   },
   {
    "duration": 3,
    "start_time": "2024-11-16T11:05:56.524Z"
   },
   {
    "duration": 10,
    "start_time": "2024-11-16T11:07:20.876Z"
   },
   {
    "duration": 9,
    "start_time": "2024-11-16T11:07:30.548Z"
   },
   {
    "duration": 9,
    "start_time": "2024-11-16T11:08:34.715Z"
   },
   {
    "duration": 783,
    "start_time": "2024-11-16T11:11:57.637Z"
   },
   {
    "duration": 12,
    "start_time": "2024-11-16T11:11:58.425Z"
   },
   {
    "duration": 169,
    "start_time": "2024-11-16T11:11:58.438Z"
   },
   {
    "duration": 166,
    "start_time": "2024-11-16T11:11:58.609Z"
   },
   {
    "duration": 27,
    "start_time": "2024-11-16T11:11:58.777Z"
   },
   {
    "duration": 387,
    "start_time": "2024-11-16T11:11:58.824Z"
   },
   {
    "duration": 213,
    "start_time": "2024-11-16T11:11:59.213Z"
   },
   {
    "duration": 0,
    "start_time": "2024-11-16T11:11:59.428Z"
   },
   {
    "duration": 0,
    "start_time": "2024-11-16T11:11:59.429Z"
   },
   {
    "duration": 0,
    "start_time": "2024-11-16T11:11:59.430Z"
   },
   {
    "duration": 1,
    "start_time": "2024-11-16T11:11:59.431Z"
   },
   {
    "duration": 0,
    "start_time": "2024-11-16T11:11:59.433Z"
   },
   {
    "duration": 747,
    "start_time": "2024-11-16T11:13:11.360Z"
   },
   {
    "duration": 13,
    "start_time": "2024-11-16T11:13:12.110Z"
   },
   {
    "duration": 170,
    "start_time": "2024-11-16T11:13:12.124Z"
   },
   {
    "duration": 164,
    "start_time": "2024-11-16T11:13:12.297Z"
   },
   {
    "duration": 27,
    "start_time": "2024-11-16T11:13:12.462Z"
   },
   {
    "duration": 408,
    "start_time": "2024-11-16T11:13:12.490Z"
   },
   {
    "duration": 9,
    "start_time": "2024-11-16T11:13:12.900Z"
   },
   {
    "duration": 19,
    "start_time": "2024-11-16T11:13:12.911Z"
   },
   {
    "duration": 321,
    "start_time": "2024-11-16T11:13:12.931Z"
   },
   {
    "duration": 129,
    "start_time": "2024-11-16T11:13:13.255Z"
   },
   {
    "duration": 14,
    "start_time": "2024-11-16T11:13:13.386Z"
   },
   {
    "duration": 23,
    "start_time": "2024-11-16T11:13:13.401Z"
   },
   {
    "duration": 156,
    "start_time": "2024-11-16T11:16:15.810Z"
   },
   {
    "duration": 145,
    "start_time": "2024-11-16T11:16:23.479Z"
   },
   {
    "duration": 150,
    "start_time": "2024-11-16T11:17:22.240Z"
   },
   {
    "duration": 143,
    "start_time": "2024-11-16T11:18:03.864Z"
   },
   {
    "duration": 129,
    "start_time": "2024-11-16T11:20:01.503Z"
   },
   {
    "duration": 126,
    "start_time": "2024-11-16T11:20:45.966Z"
   },
   {
    "duration": 217,
    "start_time": "2024-11-16T11:21:50.974Z"
   },
   {
    "duration": 147,
    "start_time": "2024-11-16T11:22:05.533Z"
   },
   {
    "duration": 349,
    "start_time": "2024-11-16T11:22:27.247Z"
   },
   {
    "duration": 290,
    "start_time": "2024-11-16T11:22:52.718Z"
   },
   {
    "duration": 126,
    "start_time": "2024-11-16T11:23:05.366Z"
   },
   {
    "duration": 162,
    "start_time": "2024-11-16T11:34:50.938Z"
   },
   {
    "duration": 6,
    "start_time": "2024-11-16T11:35:53.977Z"
   },
   {
    "duration": 8,
    "start_time": "2024-11-16T11:36:01.114Z"
   },
   {
    "duration": 5,
    "start_time": "2024-11-16T11:36:43.241Z"
   },
   {
    "duration": 4,
    "start_time": "2024-11-16T11:36:49.025Z"
   },
   {
    "duration": 3,
    "start_time": "2024-11-16T11:36:56.097Z"
   },
   {
    "duration": 8,
    "start_time": "2024-11-16T11:37:21.705Z"
   },
   {
    "duration": 7,
    "start_time": "2024-11-16T11:37:35.914Z"
   },
   {
    "duration": 6,
    "start_time": "2024-11-16T11:40:34.832Z"
   },
   {
    "duration": 7,
    "start_time": "2024-11-16T11:40:42.144Z"
   },
   {
    "duration": 5,
    "start_time": "2024-11-16T11:40:55.321Z"
   },
   {
    "duration": 5,
    "start_time": "2024-11-16T11:41:00.256Z"
   },
   {
    "duration": 4,
    "start_time": "2024-11-16T11:41:23.472Z"
   },
   {
    "duration": 5,
    "start_time": "2024-11-16T11:41:29.694Z"
   },
   {
    "duration": 4,
    "start_time": "2024-11-16T11:41:35.986Z"
   },
   {
    "duration": 5,
    "start_time": "2024-11-16T11:41:44.504Z"
   },
   {
    "duration": 5,
    "start_time": "2024-11-16T11:42:04.856Z"
   },
   {
    "duration": 4,
    "start_time": "2024-11-16T11:42:51.200Z"
   },
   {
    "duration": 4,
    "start_time": "2024-11-16T11:42:57.398Z"
   },
   {
    "duration": 5,
    "start_time": "2024-11-16T11:46:14.543Z"
   },
   {
    "duration": 5,
    "start_time": "2024-11-16T11:46:29.150Z"
   },
   {
    "duration": 218,
    "start_time": "2024-11-16T11:46:49.094Z"
   },
   {
    "duration": 154,
    "start_time": "2024-11-16T11:47:10.254Z"
   },
   {
    "duration": 156,
    "start_time": "2024-11-16T11:47:32.055Z"
   },
   {
    "duration": 156,
    "start_time": "2024-11-16T11:47:51.999Z"
   },
   {
    "duration": 171,
    "start_time": "2024-11-16T11:48:21.837Z"
   },
   {
    "duration": 222,
    "start_time": "2024-11-16T11:48:34.814Z"
   },
   {
    "duration": 167,
    "start_time": "2024-11-16T11:49:51.118Z"
   },
   {
    "duration": 157,
    "start_time": "2024-11-16T11:50:37.061Z"
   },
   {
    "duration": 3,
    "start_time": "2024-11-16T11:54:06.772Z"
   },
   {
    "duration": 4,
    "start_time": "2024-11-16T11:55:10.294Z"
   },
   {
    "duration": 4,
    "start_time": "2024-11-16T11:55:35.777Z"
   },
   {
    "duration": 4,
    "start_time": "2024-11-16T11:56:10.218Z"
   },
   {
    "duration": 156,
    "start_time": "2024-11-16T11:57:20.579Z"
   },
   {
    "duration": 749,
    "start_time": "2024-11-16T12:31:29.541Z"
   },
   {
    "duration": 13,
    "start_time": "2024-11-16T12:31:30.292Z"
   },
   {
    "duration": 174,
    "start_time": "2024-11-16T12:31:30.307Z"
   },
   {
    "duration": 174,
    "start_time": "2024-11-16T12:31:30.484Z"
   },
   {
    "duration": 27,
    "start_time": "2024-11-16T12:31:30.660Z"
   },
   {
    "duration": 417,
    "start_time": "2024-11-16T12:31:30.689Z"
   },
   {
    "duration": 20,
    "start_time": "2024-11-16T12:31:31.108Z"
   },
   {
    "duration": 7,
    "start_time": "2024-11-16T12:31:31.131Z"
   },
   {
    "duration": 316,
    "start_time": "2024-11-16T12:31:31.140Z"
   },
   {
    "duration": 126,
    "start_time": "2024-11-16T12:31:31.459Z"
   },
   {
    "duration": 14,
    "start_time": "2024-11-16T12:31:31.587Z"
   },
   {
    "duration": 4,
    "start_time": "2024-11-16T12:31:31.604Z"
   },
   {
    "duration": 708,
    "start_time": "2024-11-16T12:34:26.981Z"
   },
   {
    "duration": 12,
    "start_time": "2024-11-16T12:34:27.692Z"
   },
   {
    "duration": 185,
    "start_time": "2024-11-16T12:34:27.705Z"
   },
   {
    "duration": 170,
    "start_time": "2024-11-16T12:34:27.892Z"
   },
   {
    "duration": 26,
    "start_time": "2024-11-16T12:34:28.064Z"
   },
   {
    "duration": 412,
    "start_time": "2024-11-16T12:34:28.092Z"
   },
   {
    "duration": 18,
    "start_time": "2024-11-16T12:34:28.506Z"
   },
   {
    "duration": 8,
    "start_time": "2024-11-16T12:34:28.525Z"
   },
   {
    "duration": 342,
    "start_time": "2024-11-16T12:34:28.534Z"
   },
   {
    "duration": 125,
    "start_time": "2024-11-16T12:34:28.878Z"
   },
   {
    "duration": 14,
    "start_time": "2024-11-16T12:34:29.004Z"
   },
   {
    "duration": 5,
    "start_time": "2024-11-16T12:34:29.024Z"
   }
  ],
  "kernelspec": {
   "display_name": "Python 3 (ipykernel)",
   "language": "python",
   "name": "python3"
  },
  "language_info": {
   "codemirror_mode": {
    "name": "ipython",
    "version": 3
   },
   "file_extension": ".py",
   "mimetype": "text/x-python",
   "name": "python",
   "nbconvert_exporter": "python",
   "pygments_lexer": "ipython3",
   "version": "3.9.19"
  },
  "toc": {
   "base_numbering": 1,
   "nav_menu": {},
   "number_sections": true,
   "sideBar": true,
   "skip_h1_title": true,
   "title_cell": "Table of Contents",
   "title_sidebar": "Contents",
   "toc_cell": false,
   "toc_position": {},
   "toc_section_display": true,
   "toc_window_display": false
  }
 },
 "nbformat": 4,
 "nbformat_minor": 2
}
